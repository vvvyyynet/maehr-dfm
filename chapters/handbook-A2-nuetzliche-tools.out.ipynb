{
 "cells": [
  {
   "cell_type": "markdown",
   "metadata": {},
   "source": [
    "# \n",
    "\n",
    "## Nützliche Tools\n",
    "\n",
    "### Handbücher und Leitfäden\n",
    "\n",
    "-   Reader for Black Lives Philadephia\n",
    "\n",
    "### GND-Viewers\n",
    "\n",
    "-   Kommentar Vorteile und Nachteile (z. B. des GND-Explorers)  \n",
    "-   [https://swb.bsz-bw.de/](https://swb.bsz-bw.de/DB=2.104/?COOKIE=Us998,Pbszgast,I2017,B20728+,SY,NRecherche-DB,D2.104,E6b0d3db2-1,A,H,R178.197.206.37,FY)  \n",
    "-   GND-wiki der dnb  \n",
    "-   Regelwerk  \n",
    "-   Theoriebox\n",
    "\n",
    "### Ontologien und Mappings\n",
    "\n",
    "-   [LIDO](https://terminology-view.lido-schema.org/vocnet/?startNode=lido00409&lang=en&uriVocItem=http://terminology.lido-schema.org/eventType)\n",
    "-   Iconclass (ruft Community aktiv auf, sich antidiskriminierend zu beteiligen)  \n",
    "-   <https://wiki.dnb.de/display/GND/GND-Mappings+zu+externen+Thesauri>  \n",
    "-   Link zum Opengender-Mapping (externe Publikation)"
   ],
   "id": "5b47e89c-9aba-446c-9b8d-2f1e860ed89c"
  }
 ],
 "nbformat": 4,
 "nbformat_minor": 5,
 "metadata": {}
}

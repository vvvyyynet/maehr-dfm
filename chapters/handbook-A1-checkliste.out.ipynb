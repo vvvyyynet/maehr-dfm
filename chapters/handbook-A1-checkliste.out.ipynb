{
 "cells": [
  {
   "cell_type": "markdown",
   "metadata": {},
   "source": [
    "# \n",
    "\n",
    "## Checkliste\n",
    "\n",
    "-   …"
   ],
   "id": "4ba47906-0fb8-4bd6-8ecc-8e2b60e8261b"
  }
 ],
 "nbformat": 4,
 "nbformat_minor": 5,
 "metadata": {}
}

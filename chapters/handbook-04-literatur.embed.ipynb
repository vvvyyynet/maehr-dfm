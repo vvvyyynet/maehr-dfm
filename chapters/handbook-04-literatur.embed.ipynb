{
 "cells": [
  {
   "cell_type": "markdown",
   "metadata": {},
   "source": [
    "# \n",
    "\n",
    "# Literatur"
   ],
   "id": "446ec4bb-babd-47e9-a32f-614604e652fd"
  }
 ],
 "nbformat": 4,
 "nbformat_minor": 5,
 "metadata": {}
}

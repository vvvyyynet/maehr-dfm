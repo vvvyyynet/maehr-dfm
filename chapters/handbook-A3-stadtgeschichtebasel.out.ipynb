{
 "cells": [
  {
   "cell_type": "markdown",
   "metadata": {},
   "source": [
    "# \n",
    "\n",
    "## Metadaten aus dem Projekt *Stadt.Geschichte.Basel*\n",
    "\n",
    "> **Erfahrungen Stadt.Geschichte.Basel**\n",
    ">\n",
    "> -   Metadatenobjekte (Eltern)  \n",
    "> -   Zugeordnete Ressourcen (Kinder)\n",
    "> -   Relation von Objekt und Media"
   ],
   "id": "4e8e6849-c528-42a8-a8de-85b39ef4e353"
  }
 ],
 "nbformat": 4,
 "nbformat_minor": 5,
 "metadata": {}
}

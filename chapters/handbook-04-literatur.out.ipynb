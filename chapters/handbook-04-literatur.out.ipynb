{
 "cells": [
  {
   "cell_type": "markdown",
   "metadata": {},
   "source": [
    "# \n",
    "\n",
    "# Literatur"
   ],
   "id": "6917ffc7-2d95-43cf-ae3a-e0c792ebee64"
  }
 ],
 "nbformat": 4,
 "nbformat_minor": 5,
 "metadata": {}
}

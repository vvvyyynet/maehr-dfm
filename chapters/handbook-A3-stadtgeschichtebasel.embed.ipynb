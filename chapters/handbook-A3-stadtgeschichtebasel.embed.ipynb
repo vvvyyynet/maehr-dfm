{
 "cells": [
  {
   "cell_type": "markdown",
   "metadata": {},
   "source": [
    "# \n",
    "\n",
    "## Metadaten aus dem Projekt *Stadt.Geschichte.Basel*\n",
    "\n",
    "> **Erfahrungen Stadt.Geschichte.Basel**\n",
    ">\n",
    "> -   Metadatenobjekte (Eltern)  \n",
    "> -   Zugeordnete Ressourcen (Kinder)\n",
    "> -   Relation von Objekt und Media"
   ],
   "id": "408bc64c-3ac1-417b-a539-b8ef1ae92ed4"
  }
 ],
 "nbformat": 4,
 "nbformat_minor": 5,
 "metadata": {}
}
